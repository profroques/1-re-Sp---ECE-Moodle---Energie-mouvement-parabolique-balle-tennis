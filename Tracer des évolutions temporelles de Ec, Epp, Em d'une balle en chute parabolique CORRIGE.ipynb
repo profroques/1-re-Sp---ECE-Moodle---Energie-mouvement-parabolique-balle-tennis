{
 "cells": [
  {
   "cell_type": "markdown",
   "metadata": {},
   "source": [
    "<div class=\"panel panel-primary\">\n",
    "    <div class=\"panel-heading\"><h2>Préambule :</h2></div>\n",
    "      <div class=\"panel-body\">\n",
    "Dans cette interface, vous allez découvrir des blocs de code qui composent un programme informatique complet.\n",
    "\n",
    "Afin de vous permettre de vous initier au codage et de vous faire participer à compléter ce programme informatique, le programme sera fragmenté par blocs. \n",
    "\n",
    "Ainsi, vous serez sollicité.e.s pour deux types d'action. <br>\n",
    "- un travail pour <i>exécuter</i> un bloc de programme informatique ;<br>\n",
    "- un travail pour <i>compléter</i> un bloc de programme informatique.<br>\n",
    "<br>\n",
    "Avant de commencer à découvrir le contenu du programme informatique proposé, je vous invite à prendre connaissance des différents types de consignes et des codes couleurs associés que vous allez rencontrer.\n",
    "      </div>\n",
    "</div>"
   ]
  },
  {
   "cell_type": "markdown",
   "metadata": {},
   "source": [
    "<div class=\"alert alert-info\" role=\"alert\">\n",
    "<b>Informations pour exécuter un bloc de programme informatique : </b> <br>\n",
    "<br><i>Avant</i> les blocs de programme qu'il faut simplément \"exécuter\", vous trouverez :<br>\n",
    "la consigne de travail sur un fond bleu avec une écriture en bleu foncé comme pour cette consigne.<br>\n",
    "\n",
    "Pour Exécuter le code dans un bloc de programme, il faut le sélectionner en cliquant sur la cellule du bloc, puis cliquer sur le bouton Run (ou Exécuter) <b>en haut de la page</b> ou bien en cliquant sur la flèche à côté de In (ou Entrée) si vous êtes sur tablettes ou smartphones.\n",
    "</div>"
   ]
  },
  {
   "cell_type": "markdown",
   "metadata": {},
   "source": [
    "<div class=\"alert alert-warning\">\n",
    "<b>Informations pour compléter un bloc de programme informatique: </b> <br>\n",
    "Certains blocs de codes doivent être complétés <span style='border:1px outset black'>avant</span> d'être exécutés afin de fonctionner convenablement.<br>\n",
    "<br><i>Avant</i> les blocs de programme qu'il faut \"compléter\", vous trouverez:\n",
    "<br> -la consigne de travail sur un fond jaune avec une écriture en brun - comme pour cette consigne.\n",
    "<br>-Dans le bloc de programme à compléter vous remplacerez la mention \"-----A COMPLETER-----\" par le code adapté.\n",
    "<br>-Dans certains cas, il est possible d'avoir des aides et/ou la solution.\n",
    "<br><b>ATTENTION : Une fois le programme complété, il faut alors exécuter le bloc de code correspondant.</b>\n",
    "</div>"
   ]
  },
  {
   "cell_type": "markdown",
   "metadata": {},
   "source": [
    "<h1> INTERFACE - Tracer l'évolution temporelle des énergies cinétique, potentielle de pesanteur et mécanique au cours du temps - 1ère Spé PhyChim</h1>"
   ]
  },
  {
   "cell_type": "markdown",
   "metadata": {},
   "source": [
    "<div class=\"panel panel-default\">\n",
    "      <div class=\"panel-heading\"><h2>Tracer l'évolution temporelle des énergies cinétique, potentielle de pesanteur et mécanique au cours du temps - 1ère Spé PhyChim</h2></div>\n",
    "       <div class=\"panel-body\">Tout d'abord, un rappel : ce programme a pour but de tracer  l'évolution temporelle des énergies cinétique, potentielle de pesanteur et mécanique au cours du temps d'une bille en chute parabolique dans l'air </div>\n",
    "<div class=\"panel-body\">           \n",
    "Dans cette interface, vous allez découvrir des blocs de code qui composent un programme informatique. Ce programme a pour but :</div>\n",
    "<div class=\"panel-body\">     \n",
    "1] de demander à l'opératrice ou à l'opérateur d'importer la librairie \"pyplot\" permettant de réaliser des tracés et numpy pour réaliser des calculer, puis de créer des listes pour des variables vitesse au carré (Vaucarre) et les différentes énergies étudiées.\n",
    "    </div>\n",
    "<div class=\"panel-body\">     \n",
    "2] de demander à l'opératrice ou à l'opérateur de copier-coller les listes des positions x, y et des dates t correspondantes de la balle - valeurs obtenues lors du pointage sur Mécacrhno par exemple.\n",
    "    </div>\n",
    "<div class=\"panel-body\">     \n",
    "3] de demander à l'opératrice ou à l'opérateur de modifier un bloc de programme pour calculer la vitesse au carré de la bille ainsi que les différentes énergies étudiées. Attention : la balle ayant un mouvement plan, il est nécessaire de calculer la vitesse de la balle selon l'axe de x ainsi que selon l'axe des y.\n",
    "    </div>\n",
    "\n",
    "<div class=\"panel-body\">     \n",
    "4] d'exécuter un bloc pour tracer les évolutions temporelles de Ec, Epp et Em.\n",
    "    </div>\n",
    "\n",
    "<div class=\"panel-body\"> \n",
    "Afin de vous permettre de vous initier au codage et de vous faire participer pour compléter ce programme informatique, le programme sera donc fragmenté par bloc selon les modalités et consignes d'usages rappelées au début de cette page. \n",
    "    <br>"
   ]
  },
  {
   "cell_type": "markdown",
   "metadata": {},
   "source": [
    "<div class=\"alert alert-info\" role=\"alert\">\n",
    "<b>TRAVAIL À FAIRE POUR EXÉCUTER LE BLOC SUIVANT </b> <br>\n",
    "<br>\n",
    "    Le bloc de programme suivant d'importer la librairie pyplot qui permet de faire des tracés et numpy pour des calculs spécifiques.\n",
    "    \n",
    "<br>\n",
    "De plus, on créée des listes pour la vitesse au carré (Vaucarre), les instants (tg), l'énergie cinétique (Ec), l'énergie potentielle de pensanteur (Ep) et l'énergie mécanique (Em). Pour l'instant, ce sont des \"tableaux\" vides qui se rempliront par la suite.\n",
    "<br>\n",
    "\n",
    "<br>\n",
    "<br>\n",
    "Exécuter le bloc en faisant un \"clic gauche\" sur ce bloc puis en choisissant \"Exécuter\" dans la barre d'outils.\n",
    "<br>\n",
    "<br>\n",
    "\n",
    "</div>"
   ]
  },
  {
   "cell_type": "code",
   "execution_count": null,
   "metadata": {},
   "outputs": [],
   "source": [
    "import matplotlib.pyplot as plt ;\n",
    "import numpy as np\n",
    "\n",
    "##on definit les listes que l'on va créer\n",
    "Vitesse_aucarre,tg,Ec,Em,Ep=[0],[0],[0],[0],[0]"
   ]
  },
  {
   "cell_type": "markdown",
   "metadata": {},
   "source": [
    "<div class=\"alert alert-info\" role=\"alert\">\n",
    "<b>TRAVAIL À FAIRE POUR EXÉCUTER LE BLOC SUIVANT </b> <br>\n",
    "<br>\n",
    "    Dans le bloc suivant, coller les valeurs de x, y et t récupérées via MécaChrobo \n",
    "    <br>ATTENTION :supprimer les listes de vitesses et d'accélération).\n",
    "\n",
    "\n",
    "<br>\n",
    "</div>"
   ]
  },
  {
   "cell_type": "markdown",
   "metadata": {},
   "source": [
    "<details>\n",
    "<summary>Aide</summary>\n",
    "<p>Si vous n'êtes pas arrivé.e à récupérer les listes x, y et t, vous pouvez copier les suivantes et les coller dans le bloc :</p>\n",
    "   <br>\n",
    "t = [ 0.15, 0.2, 0.25, 0.3, 0.35, 0.399999, 0.449999, 0.499999, 0.549999, 0.599999, 0.649999, 0.699999, 0.749999, 0.799999, 0.849999, 0.899999, 0.949999, 0.999999, 1.05, 1.1, 1.15]\n",
    "\n",
    "x = [0.371108, 0.48244, 0.58847, 0.699803, 0.811135, 0.93307, 1.0444, 1.15573, 1.27237, 1.3837, 1.49503, 1.60637, 1.7283, 1.84493, 1.95627, 2.0676, 2.18953, 2.30617, 2.4228, 2.53413, 2.64547]\n",
    "\n",
    "y = [0.641486, 0.858849, 1.0497, 1.22465, 1.36249, 1.47383, 1.55335, 1.61697, 1.66468, 1.67529, 1.65938, 1.62227, 1.56395, 1.47913, 1.3678, 1.23526, 1.06561, 0.885356, 0.667994, 0.434726, 0.180252]\n",
    "\n",
    "</details>"
   ]
  },
  {
   "cell_type": "code",
   "execution_count": null,
   "metadata": {},
   "outputs": [],
   "source": [
    "t = [ 0.15, 0.2, 0.25, 0.3, 0.35, 0.399999, 0.449999, 0.499999, 0.549999, 0.599999, 0.649999, 0.699999, 0.749999, 0.799999, 0.849999, 0.899999, 0.949999, 0.999999, 1.05, 1.1, 1.15]\n",
    "\n",
    "x = [0.371108, 0.48244, 0.58847, 0.699803, 0.811135, 0.93307, 1.0444, 1.15573, 1.27237, 1.3837, 1.49503, 1.60637, 1.7283, 1.84493, 1.95627, 2.0676, 2.18953, 2.30617, 2.4228, 2.53413, 2.64547]\n",
    "\n",
    "y = [0.641486, 0.858849, 1.0497, 1.22465, 1.36249, 1.47383, 1.55335, 1.61697, 1.66468, 1.67529, 1.65938, 1.62227, 1.56395, 1.47913, 1.3678, 1.23526, 1.06561, 0.885356, 0.667994, 0.434726, 0.180252]\n"
   ]
  },
  {
   "cell_type": "markdown",
   "metadata": {},
   "source": [
    "<div class=\"alert alert-warning\">\n",
    "<b>TRAVAIL À FAIRE POUR COMPLÉTER LE BLOC SUIVANT </b> <br>\n",
    "<br>\n",
    "    Le bloc de programme suivant permet de calculer la composante vi_selonX de la vitesse vitesse de la bille selon l'axe Ox, la composante vi_selonY de la vitesse vitesse de la bille selon l'axe Oy, de calculer la valeur de la vitesse vi de la vitesse au carré de la balle à la date \"i\", ainsi que de calculer les énergies cinétique (Ec), potentielle de pesanteur (Epp) et mécanique (Em).\n",
    "    \n",
    "<br>\n",
    "<br>\n",
    "REMARQUE ULTRA IMPORTANTE : pour mettre une valeur au carré, il suffit de taper **2 (la double * signifie \"puissance\")\n",
    "<br>\n",
    "<br>\n",
    "Remplacer alors les mentions \"-----A COMPLETER-----\" par une expression adaptée.\n",
    "\n",
    "<br>\n",
    "<br>\n",
    "\n",
    "<br>\n",
    "<b>ATTENTION : Une fois le programme complété, il ne faut pas oublier de l'exécuter.\n",
    "    </div>"
   ]
  },
  {
   "cell_type": "markdown",
   "metadata": {},
   "source": [
    "<details>\n",
    "<summary>Aide</summary>\n",
    "<p>Vous devez compléter les lignes n°4 à n°6 en remplaçant la mention \"---A COMPLETER----\" par le calcul adapté. Ne pas oublier que pour calculer  le carré d'une <i>valeur</i>, il faut saisir <i>valeur</i>**2. Ne pas oublier de saisir la valeur de la masse de la balle exprimée en kg (la virgule pour la décimale est le \"point\"). L'intensité du champ de la pesanteur vaut 9.81 m/s<sup>2</sup></p>\n",
    "</details>\n",
    "\n",
    "<details>\n",
    "<summary>Solution</summary>\n",
    "<p>On modifie alors les mentions ---A COMPLETER----de la manière suivante : <br></p>\n",
    "    <p>Vi_selonX=(x[i+1]-x[i-1])/(t[i+1]-t[i-1])</p>\n",
    "    <p>Vi_selonY=(y[i+1]-y[i-1])/(t[i+1]-t[i-1])</p>\n",
    "    <p>Vi_carre= Vi_selonX**2+Vi_selonY**2</p>\n",
    "    <p>Eci=0.5*0.056*Vi_carre</p>\n",
    "    <p>Epi=0.056*9.81*y[i]</p>\n",
    "    <p>Emi=Eci+Epi</p>\n",
    "</details>"
   ]
  },
  {
   "cell_type": "code",
   "execution_count": null,
   "metadata": {
    "scrolled": true
   },
   "outputs": [],
   "source": [
    "# On créé la variable \"n\" qui correspond aux nombres de valeurs de dates t \n",
    "# autrement dit, on nombre de points reperés\n",
    "\n",
    "n=len(t)\n",
    "\n",
    "# dans une boucle, on parcourt la liste de t et y pour calculer les differentes valeurs de v, Ec, Ep, Em\n",
    "for i in range(1,n-1):\n",
    "    Vi_selonX=(x[i+1]-x[i-1])/(t[i+1]-t[i-1])\n",
    "    Vi_selonY=(y[i+1]-y[i-1])/(t[i+1]-t[i-1])\n",
    "    Vi_carre= Vi_selonX**2+Vi_selonY**2\n",
    "    Eci=0.5*0.056*Vi_carre\n",
    "    Epi=0.056*9.81*y[i]\n",
    "    Emi=Eci+Epi\n",
    "    \n",
    "# On stocke chaque valeur dans les listes\n",
    "    Vitesse_aucarre.append(Vi_carre)\n",
    "    Ec.append(Eci)\n",
    "    Ep.append(Epi)\n",
    "    Em.append(Emi)\n",
    "    tg.append(t[i])"
   ]
  },
  {
   "cell_type": "markdown",
   "metadata": {},
   "source": [
    "<div class=\"alert alert-info\" role=\"alert\">\n",
    "<b>TRAVAIL À FAIRE POUR EXÉCUTER LE BLOC SUIVANT </b> <br>\n",
    "<br>\n",
    "    Le bloc de programme suivant permet de tracer les évolutions temporelles des différentes énergies.\n",
    "   \n",
    "</div>"
   ]
  },
  {
   "cell_type": "code",
   "execution_count": null,
   "metadata": {},
   "outputs": [],
   "source": [
    "axes = plt.gca()\n",
    "\n",
    "plt.title(\"Energies en fonction du temps\")\n",
    "#On trace les trois courbes d'energie\n",
    "#plt.plot(tg,Ec,'or',tg,Ep,'ob',tg,Em,'og')\n",
    "\n",
    "plt.plot(tg,Ec,'+r',label='Ec')\n",
    "plt.plot(tg,Ep,'xb',label='Ep')\n",
    "plt.plot(tg,Em,'ok',label='Em')\n",
    "\n",
    "# On ajoute un titre pour chaque axe et pour le graphique\n",
    "plt.xlabel(\"temps t (en s)\")\n",
    "plt.ylabel(\"Energie (en J)\")\n",
    "plt.legend()\n",
    "plt.show()\n",
    "plt.close()\n"
   ]
  },
  {
   "cell_type": "code",
   "execution_count": null,
   "metadata": {},
   "outputs": [],
   "source": []
  }
 ],
 "metadata": {
  "kernelspec": {
   "display_name": "Python 3",
   "language": "python",
   "name": "python3"
  },
  "language_info": {
   "codemirror_mode": {
    "name": "ipython",
    "version": 3
   },
   "file_extension": ".py",
   "mimetype": "text/x-python",
   "name": "python",
   "nbconvert_exporter": "python",
   "pygments_lexer": "ipython3",
   "version": "3.7.4"
  }
 },
 "nbformat": 4,
 "nbformat_minor": 2
}
