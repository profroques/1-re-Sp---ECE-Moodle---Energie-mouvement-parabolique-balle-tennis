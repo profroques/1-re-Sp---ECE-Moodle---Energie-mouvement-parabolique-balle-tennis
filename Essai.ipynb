{
  "nbformat": 4,
  "nbformat_minor": 0,
  "metadata": {
    "colab": {
      "name": "Essai.ipynb",
      "provenance": [],
      "collapsed_sections": [],
      "authorship_tag": "ABX9TyO3sFMWqjR5pU1hnQZyKxJT",
      "include_colab_link": true
    },
    "kernelspec": {
      "name": "python3",
      "display_name": "Python 3"
    },
    "language_info": {
      "name": "python"
    }
  },
  "cells": [
    {
      "cell_type": "markdown",
      "metadata": {
        "id": "view-in-github",
        "colab_type": "text"
      },
      "source": [
        "<a href=\"https://colab.research.google.com/github/profroques/1-re-Sp---ECE-Moodle---Energie-mouvement-parabolique-balle-tennis/blob/main/Essai.ipynb\" target=\"_parent\"><img src=\"https://colab.research.google.com/assets/colab-badge.svg\" alt=\"Open In Colab\"/></a>"
      ]
    },
    {
      "cell_type": "markdown",
      "metadata": {
        "id": "dRnIN_pw-Dfh"
      },
      "source": [
        "<h1>Notebook du Groupe n°1</h1>\n",
        "<h2>Catégorie M1</h2>"
      ]
    },
    {
      "cell_type": "code",
      "metadata": {
        "id": "b_hOIvkl_HL-"
      },
      "source": [
        ""
      ],
      "execution_count": null,
      "outputs": []
    },
    {
      "cell_type": "markdown",
      "metadata": {
        "id": "CnmkFmXL-iin"
      },
      "source": [
        "> <h3>Consignes</h3>\n",
        "> Dans la cellule suivante, copier-coller le <code>script</code> demandé pour répondre à la commande."
      ]
    },
    {
      "cell_type": "code",
      "metadata": {
        "id": "gLBvyGzX-C5R"
      },
      "source": [
        ""
      ],
      "execution_count": null,
      "outputs": []
    }
  ]
}